{
 "cells": [
  {
   "cell_type": "markdown",
   "id": "8fb73d3a",
   "metadata": {
    "vscode": {
     "languageId": "plaintext"
    }
   },
   "source": [
    "# The Dzhanibekov Effect\n",
    "_Prepared by:_ [Joost Hubbard](https://github.com/Joosty), and [Angadh Nanjangud](https://www.angadhn.com/)\n",
    "\n",
    "In this lecture we aim to cover the following topics:\n",
    "1. [](content:background-and-definition-of-the-dzhanibekov-effect)\n",
    "2. [](content:)\n",
    "3. [](content:)\n",
    "4. [](content:)"
   ]
  },
  {
   "cell_type": "markdown",
   "id": "c5405f72",
   "metadata": {},
   "source": [
    "(content:background-and-definition-of-the-dzhanibekov-effect)=\n",
    "## Background and Definition of the Dzhanibekov Effect\n",
    "\n",
    "The Dzhanibekov effect, tennis racket theorem or intermediate axis theorem is named after the Soviet cosmonaut Vladimir Dzhanibekov, who discovered it aboard the MIR space station in 1985. The phoneomenon discovered was related to the motion of a nut rotating in microgravity after being unscrewed when unpacking cargo. The nut began rotating with seemingly stable motion for some time, until it flipped on its axis and began rotating again. This was a repeating sequence, indicating that the rotation was not stable at all.  \n",
    "\n",
    "To visualise this instability, the example of a spinning T-handle on the International Space Station is shown in the video below. The T-handle is an example of an asymmetric object subject to the Dzhanibekov effect, in free-floating rotation, exhibiting a bi-stable state due to intermediate moments of inertia. \n",
    "\n",
    "<div style=\"text-align: center;\">\n",
    "    <iframe width=\"560\" height=\"315\" src=\"https://www.youtube.com/embed/1n-HMSCDYtM?si=jFAk368JbBvXyUy4\" title=\"YouTube video player\" frameborder=\"0\" allow=\"accelerometer; autoplay; clipboard-write; encrypted-media; gyroscope; picture-in-picture; web-share\" referrerpolicy=\"strict-origin-when-cross-origin\" allowfullscreen></iframe>\n",
    "</div>\n",
    "\n",
    "\n",
    "When an asymmetric object rotates around its intermediate principal axis, an inherent instability arises. This occurs because a rigid body has three principal moments of inertia, which influence its rotational motion. While rotation around the first and third principal axes can be stable, the second principal axis (the intermediate axis) is inherently unstable. The diagram below illustrates the principal axes nad their stability:\n",
    "\n",
    "```{figure} ./images/image_1.png\n",
    "---\n",
    "width: 75%\n",
    "align: center\n",
    "name: fig1\n",
    "---\n",
    "The princple axes of a T-handle. \n",
    "```\n",
    "\n",
    "\n"
   ]
  },
  {
   "cell_type": "markdown",
   "id": "5319c3fd",
   "metadata": {
    "vscode": {
     "languageId": "plaintext"
    }
   },
   "source": [
    "## References\n",
    "\n",
    "1. **Око Планета**, \"Эффект Джанибекова: гайка Джанибекова,\" [Online]. Available: [https://oko-planet.su/science/sciencehypothesis/15090-yeffekt-dzhanibekova-gajka-dzhanibekova.html](https://oko-planet.su/science/sciencehypothesis/15090-yeffekt-dzhanibekova-gajka-dzhanibekova.html). [Accessed: 22-Sep-2024].\n",
    "\n",
    "<!-- Used for The Dzhanibekov effect, tennis racket theorem or intermediate axis theorem is named after the Soviet cosmonaut Vladimir Dzhanibekov, who discovered it aboard the MIR space station in 1985. The phoneomenon discovered was related to the motion of a nut rotating in microgravity after being unscrewed when unpacking cargo. The nut began rotating with seemingly stable motion for some time, until it flipped on its axis and began rotating again. This was a repeating sequence, indicating that the rotation was not stable at all.   -->\n",
    "\n",
    "2. **Berkeley Mechanical Engineering**, \"A Tumbling T-Handle in Space,\" University of California, Berkeley, [Online]. Available: [https://rotations.berkeley.edu/a-tumbling-t-handle-in-space/](https://rotations.berkeley.edu/a-tumbling-t-handle-in-space/). [Accessed: 22-Sep-2024].\n",
    "\n",
    "<!-- When an asymmetric object rotates around its intermediate principal axis, an inherent instability arises. This occurs because a rigid body has three principal moments of inertia, which influence its rotational motion. While rotation around the first and third principal axes can be stable, the second principal axis (the intermediate axis) is inherently unstable. The diagram below illustrates the principal axes and their stability:  -->\n",
    "\n",
    "3. **COMSOL Blog**, \"Why Do Tennis Rackets Tumble? The Dzhanibekov Effect Explained,\" COMSOL, [Online]. Available: [https://www.comsol.com/blogs/why-do-tennis-rackets-tumble-the-dzhanibekov-effect-explained](https://www.comsol.com/blogs/why-do-tennis-rackets-tumble-the-dzhanibekov-effect-explained). [Accessed: 22-Sep-2024].\n",
    "\n",
    "<!-- Used for figure 1  -->\n",
    "\n",
    "4. **A. Nanjangud**, \"Examples of Varied Quantities,\" The Information Space, [Online]. Available: [https://theinformationspace.angadhn.com/3a+Examples+of+varied+quantities](https://theinformationspace.angadhn.com/3a+Examples+of+varied+quantities). [Accessed: 22-Sep-2024].\n",
    "\n",
    "\n"
   ]
  }
 ],
 "metadata": {
  "kernelspec": {
   "display_name": "Python 3 (ipykernel)",
   "language": "python",
   "name": "python3"
  },
  "language_info": {
   "codemirror_mode": {
    "name": "ipython",
    "version": 3
   },
   "file_extension": ".py",
   "mimetype": "text/x-python",
   "name": "python",
   "nbconvert_exporter": "python",
   "pygments_lexer": "ipython3",
   "version": "3.9.12"
  }
 },
 "nbformat": 4,
 "nbformat_minor": 5
}
